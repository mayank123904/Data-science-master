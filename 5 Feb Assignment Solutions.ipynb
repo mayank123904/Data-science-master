{
 "cells": [
  {
   "cell_type": "markdown",
   "metadata": {},
   "source": [
    "# 5 Feb_Assignment"
   ]
  },
  {
   "cell_type": "markdown",
   "metadata": {},
   "source": [
    "# Solution 1"
   ]
  },
  {
   "cell_type": "markdown",
   "metadata": {},
   "source": [
    "Classes are user-defined data types which behaves as blueprint for objects. It contains attributes and functions which are different for different objects that belong to same class.\n",
    "A class is a logical entity. It does not consume memory.\n",
    "\n",
    "Objects are real world entity which are instance of class. Each object may have different properties and funcionalities belonging to same class.\n",
    "They consume memory\n",
    "\n",
    "For example if color is a class its objects may be red, blue, green, pink etc with different properties like intensity, message, power, shade etc."
   ]
  },
  {
   "cell_type": "code",
   "execution_count": 3,
   "metadata": {},
   "outputs": [],
   "source": [
    "class user:\n",
    "    \n",
    "     def greet(self):\n",
    "            print(\"Welcome to our platform\")"
   ]
  },
  {
   "cell_type": "code",
   "execution_count": 4,
   "metadata": {},
   "outputs": [],
   "source": [
    "user1=user()"
   ]
  },
  {
   "cell_type": "code",
   "execution_count": 6,
   "metadata": {},
   "outputs": [
    {
     "name": "stdout",
     "output_type": "stream",
     "text": [
      "<class '__main__.user'>\n"
     ]
    }
   ],
   "source": [
    "print(type(user1))"
   ]
  },
  {
   "cell_type": "markdown",
   "metadata": {},
   "source": [
    "In above example user is class and user1 is an object of user class"
   ]
  },
  {
   "cell_type": "markdown",
   "metadata": {},
   "source": [
    "# Solution 2"
   ]
  },
  {
   "cell_type": "markdown",
   "metadata": {},
   "source": [
    "Four pillars of OOPs are as followe:\n",
    "    1. Inheritance\n",
    "    2. Polymorphism\n",
    "    3. Encapsulation\n",
    "    4. Abstraction"
   ]
  },
  {
   "cell_type": "markdown",
   "metadata": {},
   "source": [
    "# Solution 3"
   ]
  },
  {
   "cell_type": "markdown",
   "metadata": {},
   "source": [
    "The __init__ method allow us to create constructor of a class to accept data from user. It is also used to initialize attributes of object. It is used within classes."
   ]
  },
  {
   "cell_type": "code",
   "execution_count": 9,
   "metadata": {},
   "outputs": [],
   "source": [
    "# For example:\n",
    "\n",
    "class user:\n",
    "    def __init__(self,username,phone_number,userid):\n",
    "        self.username=username\n",
    "        self.phone_number=phone_number\n",
    "        self.userid=userid\n",
    "    \n",
    "    def return_printdetails(self):\n",
    "        return self.userid, self.username, self.phone_number"
   ]
  },
  {
   "cell_type": "code",
   "execution_count": 10,
   "metadata": {},
   "outputs": [],
   "source": [
    "user1=user(\"Mohan\",7895478963,66422)"
   ]
  },
  {
   "cell_type": "code",
   "execution_count": 11,
   "metadata": {},
   "outputs": [
    {
     "data": {
      "text/plain": [
       "(66422, 'Mohan', 7895478963)"
      ]
     },
     "execution_count": 11,
     "metadata": {},
     "output_type": "execute_result"
    }
   ],
   "source": [
    "user1.return_printdetails()"
   ]
  },
  {
   "cell_type": "markdown",
   "metadata": {},
   "source": [
    "# Solution 4"
   ]
  },
  {
   "cell_type": "markdown",
   "metadata": {},
   "source": [
    "Self is a keyword in python used to represent the instance of the class. By using self we can access attributes and methods of a class."
   ]
  },
  {
   "cell_type": "code",
   "execution_count": 17,
   "metadata": {},
   "outputs": [],
   "source": [
    "# For example\n",
    "\n",
    "class greet:\n",
    "    \n",
    "    def __init__(self, username):\n",
    "        self.username=username\n",
    "        \n",
    "    def greetuser(self):\n",
    "        print(f\"Dear {self.username}, Welcome to our cafe\")"
   ]
  },
  {
   "cell_type": "code",
   "execution_count": 18,
   "metadata": {},
   "outputs": [],
   "source": [
    "user1=greet(\"Sid\")"
   ]
  },
  {
   "cell_type": "code",
   "execution_count": 19,
   "metadata": {},
   "outputs": [
    {
     "name": "stdout",
     "output_type": "stream",
     "text": [
      "Dear Sid, Welcome to our cafe\n"
     ]
    }
   ],
   "source": [
    "user1.greetuser()"
   ]
  },
  {
   "cell_type": "markdown",
   "metadata": {},
   "source": [
    "# Solution 5"
   ]
  },
  {
   "cell_type": "markdown",
   "metadata": {},
   "source": [
    "Inheritance is one of the main pillars of OOPs. It is used to inherit properties of one class to other.\n",
    "It is also used to reuse the fields and methods of a class.\n",
    "There are total 6 types of inheritance\n",
    "1. Single Inheritance\n",
    "2. Multiple Inheritance\n",
    "3. Multilevel Inheritance\n",
    "4. Hierarchical Inheritance\n",
    "5. Hybrid Inheriance"
   ]
  },
  {
   "cell_type": "code",
   "execution_count": 20,
   "metadata": {},
   "outputs": [
    {
     "name": "stdout",
     "output_type": "stream",
     "text": [
      "This is color class.\n",
      "This is red color class.\n"
     ]
    }
   ],
   "source": [
    "# 1. Single Inheritance Example\n",
    " \n",
    "# Base class\n",
    "class color:\n",
    "    def fun1(self):\n",
    "        print(\"This is color class.\")\n",
    "\n",
    "# Derived class\n",
    "class red(color):\n",
    "    def fun2(self):\n",
    "        print(\"This is red color class.\")\n",
    "\n",
    "obj=red()\n",
    "obj.fun1()\n",
    "obj.fun2()"
   ]
  },
  {
   "cell_type": "code",
   "execution_count": 21,
   "metadata": {},
   "outputs": [
    {
     "name": "stdout",
     "output_type": "stream",
     "text": [
      "This is color class\n",
      "This is red color\n",
      "This is blue color\n"
     ]
    }
   ],
   "source": [
    "# 2. Multiple Inheritance Example\n",
    "\n",
    "# Base class1\n",
    "class red:\n",
    "    def fun1(self):\n",
    "        print(\"This is red color\")\n",
    "\n",
    "# Base class2\n",
    "class blue:\n",
    "    def fun2(self):\n",
    "        print(\"This is blue color\")\n",
    "\n",
    "# Derived class\n",
    "class color(red,blue):\n",
    "    def fun(self):\n",
    "        print(\"This is color class\")\n",
    "\n",
    "obj=color()\n",
    "obj.fun()\n",
    "obj.fun1()\n",
    "obj.fun2()"
   ]
  },
  {
   "cell_type": "code",
   "execution_count": 23,
   "metadata": {},
   "outputs": [
    {
     "name": "stdout",
     "output_type": "stream",
     "text": [
      "This is color class\n",
      "This is red color\n",
      "red is first color in raibow\n"
     ]
    }
   ],
   "source": [
    "# 3. Multilevel Inheritance Example\n",
    "\n",
    "# Base class\n",
    "class color:\n",
    "    def fun1(self):\n",
    "        print(\"This is color class\")\n",
    "\n",
    "# Intermediate class\n",
    "class red(color):\n",
    "    def fun2(self):\n",
    "        print(\"This is red color\")\n",
    "\n",
    "# Derived class\n",
    "class vibgyor(red):\n",
    "    def fun3(self):\n",
    "        print(\"red is first color in raibow\")\n",
    "\n",
    "obj=vibgyor()\n",
    "obj.fun1()\n",
    "obj.fun2()\n",
    "obj.fun3()"
   ]
  },
  {
   "cell_type": "code",
   "execution_count": 26,
   "metadata": {},
   "outputs": [
    {
     "name": "stdout",
     "output_type": "stream",
     "text": [
      "This is color class\n",
      "This is red color\n",
      "This is color class\n",
      "This is blue color\n"
     ]
    }
   ],
   "source": [
    "# 4. Hierarchical Inheritance Example\n",
    "\n",
    "# Base class\n",
    "class color:\n",
    "    def fun1(self):\n",
    "        print(\"This is color class\")\n",
    "\n",
    "# Derived class1\n",
    "class red(color):\n",
    "    def fun2(self):\n",
    "        print(\"This is red color\")\n",
    "\n",
    "# Derived class2\n",
    "class blue(color):\n",
    "    def fun3(self):\n",
    "        print(\"This is blue color\")\n",
    "\n",
    "obj1=red()\n",
    "obj2=blue()\n",
    "\n",
    "obj1.fun1()\n",
    "obj1.fun2()\n",
    "obj2.fun1()\n",
    "obj2.fun3()"
   ]
  },
  {
   "cell_type": "code",
   "execution_count": 28,
   "metadata": {},
   "outputs": [
    {
     "name": "stdout",
     "output_type": "stream",
     "text": [
      "This is color class\n",
      "This is red color\n",
      "Rainbow contains this color\n"
     ]
    }
   ],
   "source": [
    "# 5. Hybrid Inheritance Example\n",
    "\n",
    "# Base class\n",
    "class color:\n",
    "    def fun1(self):\n",
    "        print(\"This is color class\")\n",
    "\n",
    "# Derived class1\n",
    "class red(color):\n",
    "    def fun2(self):\n",
    "        print(\"This is red color\")\n",
    "\n",
    "# Derived class2\n",
    "class pink(color):\n",
    "    def fun3(self):\n",
    "        print(\"This is pink color\")\n",
    "\n",
    "# Derived class3 from class1 and class2\n",
    "class vibgyor(red, color):\n",
    "    def fun4(self):\n",
    "        print(\"Rainbow contains this color\")\n",
    "        \n",
    "obj=vibgyor()\n",
    "\n",
    "obj.fun1()\n",
    "obj.fun2()\n",
    "obj.fun4()"
   ]
  },
  {
   "cell_type": "code",
   "execution_count": null,
   "metadata": {},
   "outputs": [],
   "source": []
  }
 ],
 "metadata": {
  "kernelspec": {
   "display_name": "Python 3",
   "language": "python",
   "name": "python3"
  },
  "language_info": {
   "codemirror_mode": {
    "name": "ipython",
    "version": 3
   },
   "file_extension": ".py",
   "mimetype": "text/x-python",
   "name": "python",
   "nbconvert_exporter": "python",
   "pygments_lexer": "ipython3",
   "version": "3.7.1"
  }
 },
 "nbformat": 4,
 "nbformat_minor": 2
}
