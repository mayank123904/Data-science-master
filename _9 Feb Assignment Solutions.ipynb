{
 "cells": [
  {
   "cell_type": "markdown",
   "metadata": {},
   "source": [
    "# Solution 1"
   ]
  },
  {
   "cell_type": "code",
   "execution_count": 1,
   "metadata": {},
   "outputs": [
    {
     "name": "stdout",
     "output_type": "stream",
     "text": [
      "Car\n",
      "120\n",
      "40\n"
     ]
    }
   ],
   "source": [
    "class Vehicle:\n",
    "    def __init__(self, name_of_vehicle, max_speed, average_of_vehicle):\n",
    "        self.name = name_of_vehicle\n",
    "        self.max_speed = max_speed\n",
    "        self.average = average_of_vehicle\n",
    "    \n",
    "v1 = Vehicle(\"Car\",120,40)\n",
    "print(v1.name)\n",
    "print(v1.max_speed)\n",
    "print(v1.average)"
   ]
  },
  {
   "cell_type": "markdown",
   "metadata": {},
   "source": [
    "# Solution 2"
   ]
  },
  {
   "cell_type": "code",
   "execution_count": 2,
   "metadata": {},
   "outputs": [
    {
     "name": "stdout",
     "output_type": "stream",
     "text": [
      "Maruti has a seating capacity of 5 passengers.\n"
     ]
    }
   ],
   "source": [
    "class Car(Vehicle):\n",
    "    def __init__(self, name_of_car, max_speed, average_of_car):\n",
    "        super().__init__(name_of_car, max_speed, average_of_car)\n",
    "\n",
    "    def seating_capacity(self, capacity):\n",
    "        return f\"{self.name} has a seating capacity of {capacity} passengers.\"\n",
    "\n",
    "my_car = Car(\"Maruti\", 150, 30)\n",
    "print(my_car.seating_capacity(5))"
   ]
  },
  {
   "cell_type": "markdown",
   "metadata": {},
   "source": [
    "# Solution 3"
   ]
  },
  {
   "cell_type": "markdown",
   "metadata": {},
   "source": [
    "Multiple inheritance is a feature in object-oriented programming where a class can inherit attributes and methods from more than one parent class. In Python, we can implement multiple inheritance by specifying multiple parent classes in the class definition."
   ]
  },
  {
   "cell_type": "code",
   "execution_count": 3,
   "metadata": {},
   "outputs": [
    {
     "name": "stdout",
     "output_type": "stream",
     "text": [
      "This is parent1\n",
      "This is parent2\n",
      "This is child\n"
     ]
    }
   ],
   "source": [
    "class Parent1:\n",
    "    def m1(self):\n",
    "        return \"This is parent1\"\n",
    "    \n",
    "class Parent2:\n",
    "    def m2(self):\n",
    "        return \"This is parent2\"\n",
    "\n",
    "class Child(Parent1, Parent2):\n",
    "    def m3(self):\n",
    "        return \"This is child\"\n",
    "\n",
    "child_obj = Child()\n",
    "\n",
    "print(child_obj.m1())\n",
    "print(child_obj.m2())\n",
    "print(child_obj.m3())"
   ]
  },
  {
   "cell_type": "markdown",
   "metadata": {},
   "source": [
    "# Solution 4"
   ]
  },
  {
   "cell_type": "markdown",
   "metadata": {},
   "source": [
    "In Python, getter and setter methods are used to control access to an object's attributes. They allow us to define custom behavior when getting or setting the values of object attributes. Getter methods are used to retrieve the value of an attribute, while setter methods are used to set or modify the value of an attribute."
   ]
  },
  {
   "cell_type": "code",
   "execution_count": 5,
   "metadata": {},
   "outputs": [
    {
     "name": "stdout",
     "output_type": "stream",
     "text": [
      "Name: Maruti800\n",
      "Updated Name: BMW\n"
     ]
    }
   ],
   "source": [
    "class Vehicle:\n",
    "    def __init__(self, name):\n",
    "        self._name = name\n",
    "\n",
    "    def get_name(self):\n",
    "        return self._name\n",
    "\n",
    "    def set_name(self, name):\n",
    "        if isinstance(name, str):\n",
    "            self._name = name\n",
    "        else:\n",
    "            print(\"Name must be a string.\")\n",
    "            \n",
    "vehicle1 = Vehicle(\"Maruti800\")\n",
    "print(\"Name:\", vehicle1.get_name())\n",
    "vehicle1.set_name(\"BMW\")\n",
    "print(\"Updated Name:\", vehicle1.get_name())"
   ]
  },
  {
   "cell_type": "markdown",
   "metadata": {},
   "source": [
    "# Solution 5"
   ]
  },
  {
   "cell_type": "markdown",
   "metadata": {},
   "source": [
    "Method overriding is a feature in object-oriented programming that allows a subclass to provide a specific implementation for a method that is already defined in its superclass. When a method in a subclass has the same name, parameters, and return type as a method in its superclass, it is said to override the superclass method. Method overriding is a way to customize or extend the behavior of the inherited method in the subclass."
   ]
  },
  {
   "cell_type": "code",
   "execution_count": 6,
   "metadata": {},
   "outputs": [
    {
     "name": "stdout",
     "output_type": "stream",
     "text": [
      "I am Maruti\n",
      "I am BMW\n"
     ]
    }
   ],
   "source": [
    "class Vehicle:\n",
    "    def intro(self):\n",
    "        return \"I am vehicle\"\n",
    "\n",
    "class Maruti(Vehicle):\n",
    "    def intro(self):\n",
    "        return \"I am Maruti\"\n",
    "\n",
    "class BMW(Vehicle):\n",
    "    def intro(self):\n",
    "        return \"I am BMW\"\n",
    "\n",
    "maruti = Maruti()\n",
    "bmw = BMW()\n",
    "\n",
    "print(maruti.intro())\n",
    "print(bmw.intro())"
   ]
  },
  {
   "cell_type": "code",
   "execution_count": null,
   "metadata": {},
   "outputs": [],
   "source": []
  }
 ],
 "metadata": {
  "kernelspec": {
   "display_name": "Python 3",
   "language": "python",
   "name": "python3"
  },
  "language_info": {
   "codemirror_mode": {
    "name": "ipython",
    "version": 3
   },
   "file_extension": ".py",
   "mimetype": "text/x-python",
   "name": "python",
   "nbconvert_exporter": "python",
   "pygments_lexer": "ipython3",
   "version": "3.7.1"
  }
 },
 "nbformat": 4,
 "nbformat_minor": 2
}
