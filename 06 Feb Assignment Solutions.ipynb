{
 "cells": [
  {
   "cell_type": "markdown",
   "metadata": {},
   "source": [
    "# 6 Feb_Assignment"
   ]
  },
  {
   "cell_type": "markdown",
   "metadata": {},
   "source": [
    "# Solution 1"
   ]
  },
  {
   "cell_type": "code",
   "execution_count": 14,
   "metadata": {},
   "outputs": [
    {
     "name": "stdout",
     "output_type": "stream",
     "text": [
      "486436686939657115156922499072000\n"
     ]
    }
   ],
   "source": [
    "def myfun(l):\n",
    "    x=[];\n",
    "    for i in l:\n",
    "        if type(i)==int or type(i)==float:\n",
    "            x.append(i)\n",
    "        \n",
    "        elif type(i)==list or type(i)==tuple or type(i)==set:\n",
    "            templ=list(i)\n",
    "            for j in templ:\n",
    "                if type(j)==int or type(j)==float:\n",
    "                    x.append(j)\n",
    "            \n",
    "        elif type(i)==dict:\n",
    "            templ2=list(i.keys())\n",
    "            for k in templ2:\n",
    "                if type(k)==int or type(k)==float:\n",
    "                    x.append(k)\n",
    "                \n",
    "            templ3=list(i.values())\n",
    "            for m in templ3:\n",
    "                if type(m)==int or type(m)==float:\n",
    "                    x.append(k)\n",
    "                elif type(m)==list or type(m)==tuple or type(m)==set:\n",
    "                    templ4=list(m)\n",
    "                    for n in templ4:\n",
    "                        if type(n)==int or type(n)==float:\n",
    "                            x.append(n)\n",
    "    return x\n",
    "                \n",
    "def product(l):\n",
    "    templ=list(myfun(l))\n",
    "    if(len(templ)==0):\n",
    "        return 0\n",
    "    else:\n",
    "        y=1\n",
    "        for i in list(templ):\n",
    "            y=y*i\n",
    "    return y\n",
    "\n",
    "l=[1,2,3,4,[44,55,66,True],False,(34,56,78,89,34),{1,2,3,3,2,1},{1:34,'key2':[55,67,78,89],4:(45,22,61,34)},[56,\"data science\"],\"Machine Learning\"]\n",
    "print(product(l))"
   ]
  },
  {
   "cell_type": "markdown",
   "metadata": {},
   "source": [
    "# Solution 2"
   ]
  },
  {
   "cell_type": "code",
   "execution_count": 28,
   "metadata": {},
   "outputs": [
    {
     "name": "stdout",
     "output_type": "stream",
     "text": [
      "r$dzmg$gl$yvxlnv$z$wzgz$hxrvmgrhg.\n"
     ]
    }
   ],
   "source": [
    "import string\n",
    "\n",
    "def fun(string1):\n",
    "    string1=string1.lower()\n",
    "    x=list(string1)\n",
    "    z=string.punctuation\n",
    "    y=[]\n",
    "    for i in x:\n",
    "        if i in z:\n",
    "            y.append(i)\n",
    "            \n",
    "        elif i==\" \":\n",
    "            y.append(\"$\")\n",
    "            \n",
    "        else:\n",
    "            y.append(chr(122-ord(i)+97))\n",
    "            \n",
    "    return (\"\".join(y))\n",
    "\n",
    "\n",
    "y=\"I want to become a Data Scientist.\"\n",
    "print(fun(y))"
   ]
  },
  {
   "cell_type": "code",
   "execution_count": null,
   "metadata": {},
   "outputs": [],
   "source": []
  }
 ],
 "metadata": {
  "kernelspec": {
   "display_name": "Python 3",
   "language": "python",
   "name": "python3"
  },
  "language_info": {
   "codemirror_mode": {
    "name": "ipython",
    "version": 3
   },
   "file_extension": ".py",
   "mimetype": "text/x-python",
   "name": "python",
   "nbconvert_exporter": "python",
   "pygments_lexer": "ipython3",
   "version": "3.7.1"
  }
 },
 "nbformat": 4,
 "nbformat_minor": 2
}
