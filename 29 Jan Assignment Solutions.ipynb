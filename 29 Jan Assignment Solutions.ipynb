{
 "cells": [
  {
   "cell_type": "markdown",
   "metadata": {},
   "source": [
    "Solution 1\n",
    "\n",
    "Python Programming Language was developed by Guido van Rossum. "
   ]
  },
  {
   "cell_type": "markdown",
   "metadata": {},
   "source": [
    " "
   ]
  },
  {
   "cell_type": "markdown",
   "metadata": {},
   "source": [
    "Solution 2\n",
    "\n",
    "Python is a multi-paradigm programming. \n",
    "It supports both Object-oriented programming and structured programming."
   ]
  },
  {
   "cell_type": "markdown",
   "metadata": {},
   "source": [
    " "
   ]
  },
  {
   "cell_type": "markdown",
   "metadata": {},
   "source": [
    "Solution 3\n",
    "\n",
    "Yes Python is case sensitive when dealing with identifiers."
   ]
  },
  {
   "cell_type": "markdown",
   "metadata": {},
   "source": [
    " "
   ]
  },
  {
   "cell_type": "markdown",
   "metadata": {},
   "source": [
    "Solution 4\n",
    "\n",
    "The correct extension of python file is \".py\"\n",
    "\n",
    "But it also supports other depending on environment we are using like for \n",
    "jupyter we use \".ipynb \"."
   ]
  },
  {
   "cell_type": "markdown",
   "metadata": {},
   "source": [
    " "
   ]
  },
  {
   "cell_type": "markdown",
   "metadata": {},
   "source": [
    "Solution 5\n",
    "\n",
    "Python code is interpreted. It converts the code into bytecode that is also know as machine code."
   ]
  },
  {
   "cell_type": "markdown",
   "metadata": {},
   "source": [
    " "
   ]
  },
  {
   "cell_type": "markdown",
   "metadata": {},
   "source": [
    "Solution 6\n",
    "\n",
    "There are several types of blocks availabe in Python programming language to write our code some of them are:-\n",
    "\n",
    "1. Functions\n",
    "2. Conditional\n",
    "3. Exception\n",
    "4. Loops "
   ]
  },
  {
   "cell_type": "markdown",
   "metadata": {},
   "source": [
    " "
   ]
  },
  {
   "cell_type": "markdown",
   "metadata": {},
   "source": [
    "Solution 7\n",
    "\n",
    "In Python '#' is used to generate single line comment."
   ]
  },
  {
   "cell_type": "markdown",
   "metadata": {},
   "source": [
    " "
   ]
  },
  {
   "cell_type": "markdown",
   "metadata": {},
   "source": [
    "Solution 8\n",
    "\n",
    "In Python there are several functions which can help us to find the version of python that we are currently we are working on. Some of them are:-\n",
    "\n",
    "1. sys.version()\n",
    "2. platform.python_version()\n",
    "3. sys.version_info()"
   ]
  },
  {
   "cell_type": "markdown",
   "metadata": {},
   "source": [
    " "
   ]
  },
  {
   "cell_type": "markdown",
   "metadata": {},
   "source": [
    "Solution 9\n",
    "\n",
    "Python supports the creation of anynymous functions at runtime, using a construct called \"lambda\"\n",
    "\n",
    "Syntax for creating a lambda funciton is\n",
    "lambda arguments: expression"
   ]
  },
  {
   "cell_type": "markdown",
   "metadata": {},
   "source": [
    " "
   ]
  },
  {
   "cell_type": "markdown",
   "metadata": {},
   "source": [
    "Solution 10\n",
    "\n",
    "pip is used as acronym for pip Install Packages standard tool for installing various packages and libraries and their dependenies in project."
   ]
  },
  {
   "cell_type": "markdown",
   "metadata": {},
   "source": [
    " "
   ]
  },
  {
   "cell_type": "markdown",
   "metadata": {},
   "source": [
    "Solution 11\n",
    "\n",
    "There are various inbuilt functions in Python some of them are:-\n",
    "\n",
    "1. print()\n",
    "2. max()\n",
    "3. min()\n",
    "4. type()\n",
    "5. input()\n",
    "6. pow()\n",
    "7. abs()"
   ]
  },
  {
   "cell_type": "markdown",
   "metadata": {},
   "source": [
    " "
   ]
  },
  {
   "cell_type": "markdown",
   "metadata": {},
   "source": [
    "Solution 12\n",
    "\n",
    "There is not any specific max length of an identifier. But the best practice for naming an identifer is that it should be short, descriptive and easy to understand to improve code quality. The best range of length could be 20 to 80 characters."
   ]
  },
  {
   "cell_type": "markdown",
   "metadata": {},
   "source": [
    " "
   ]
  },
  {
   "cell_type": "markdown",
   "metadata": {},
   "source": [
    "Solution 13\n",
    "\n",
    "Some of the advantages of using Python as programming language are:-\n",
    "\n",
    "1. Easy to read, learn and write\n",
    "2. It is a multi-paradigm programming\n",
    "3. User friendly\n",
    "4. Open source and large active community support\n",
    "5. Contains various packages and thrid-party modules to build a complex project\n",
    "6. Portable and interactive"
   ]
  },
  {
   "cell_type": "markdown",
   "metadata": {},
   "source": [
    " "
   ]
  },
  {
   "cell_type": "markdown",
   "metadata": {},
   "source": [
    "Solution 14\n",
    "\n",
    "In Python, memory is managed by the Python manager which determines where to put application data in the memory. Basially manager allots free space in computer's vitual memory. There are two types of virtual memory works while executing programs.\n",
    "\n",
    "1. Static Memory Allocation \n",
    "2. Dynamic Memory Allocation\n",
    "\n",
    "1. Static Memory Allocation\n",
    "\n",
    "Static memroy allocation occurs at compile time we cannot use the memroy again in further program\n",
    "\n",
    "Implementation  static int name=\"Mohan\"\n",
    "\n",
    "2. Dynamic Memory Allocation\n",
    "\n",
    "Dynamic memory allocation occurs at runtime to the program. We use Heap for implement dynamic memory allocation."
   ]
  },
  {
   "cell_type": "markdown",
   "metadata": {},
   "source": [
    " "
   ]
  },
  {
   "cell_type": "markdown",
   "metadata": {},
   "source": [
    "Solution 15\n",
    "\n",
    "Python Installation and setting Path Variables :- \n",
    "\n",
    "\n",
    "Step1 - First we need to locate where the python is being installed after     \n",
    "        downloading it. Press WINDOWS key and search for \"Python\"\n",
    " \n",
    "        If Python is not installed first download it\n",
    "\n",
    "\n",
    "Step2 - Click on the open file location and we will be in a location where \n",
    "        Python is installed, Copy the loaction path from the top by clicking \n",
    "        over it.\n",
    "\n",
    "\n",
    "Step3 - Now add the above-copied path as a variable so that windows can \n",
    "        recognize. Search for \"Environmental Variables\".\n",
    "\n",
    "        Click on that\n",
    "\n",
    "Step4 - Now click the \"Environmental Variables\" button. There will be two \n",
    "        categories \"User\" and \"System\", we have to add it in Users, click on \n",
    "        new button in the User section. Now, add a Variable Name and Path which         we copied and click OK.\n",
    "        \n",
    "        Now we can verify whether variable is set or not by executing a python code on CMD"
   ]
  },
  {
   "cell_type": "markdown",
   "metadata": {},
   "source": [
    " "
   ]
  },
  {
   "cell_type": "markdown",
   "metadata": {},
   "source": [
    "Solution 16\n",
    "\n",
    "Identation is important in Python, because it determies the scope of code i.e. it belongs to what part of the program."
   ]
  }
 ],
 "metadata": {
  "kernelspec": {
   "display_name": "Python 3",
   "language": "python",
   "name": "python3"
  },
  "language_info": {
   "codemirror_mode": {
    "name": "ipython",
    "version": 3
   },
   "file_extension": ".py",
   "mimetype": "text/x-python",
   "name": "python",
   "nbconvert_exporter": "python",
   "pygments_lexer": "ipython3",
   "version": "3.7.1"
  }
 },
 "nbformat": 4,
 "nbformat_minor": 2
}
