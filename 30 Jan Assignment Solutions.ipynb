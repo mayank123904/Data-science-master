{
 "cells": [
  {
   "cell_type": "markdown",
   "metadata": {},
   "source": [
    "Solution 1"
   ]
  },
  {
   "cell_type": "code",
   "execution_count": 1,
   "metadata": {},
   "outputs": [
    {
     "name": "stdout",
     "output_type": "stream",
     "text": [
      "Enter your percentage\n",
      "89\n",
      "B\n"
     ]
    }
   ],
   "source": [
    "print(\"Enter your percentage\")\n",
    "percentage=int(input())\n",
    "if percentage > 90:\n",
    "    print(\"A\")\n",
    "elif percentage > 80 and percentage <= 90:\n",
    "    print(\"B\")\n",
    "elif percentage >= 60 and percentage<=80:\n",
    "    print(\"C\")\n",
    "elif percentage>=0 and percentage<60:\n",
    "    print(\"D\")\n",
    "else:\n",
    "    print(\"Invalid Percentage\")"
   ]
  },
  {
   "cell_type": "markdown",
   "metadata": {},
   "source": [
    "Solution 2"
   ]
  },
  {
   "cell_type": "code",
   "execution_count": 2,
   "metadata": {},
   "outputs": [
    {
     "name": "stdout",
     "output_type": "stream",
     "text": [
      "Enter your cost price of bike to check the road tax\n",
      "75852\n",
      "10%\n"
     ]
    }
   ],
   "source": [
    "print(\"Enter your cost price of bike to check the road tax\")\n",
    "bikeCostPrice=int(input())\n",
    "if bikeCostPrice>100000:\n",
    "    print(\"15%\")\n",
    "elif bikeCostPrice>50000 and bikeCostPrice<=100000:\n",
    "    print(\"10%\")\n",
    "elif bikeCostPrice>0 and bikeCostPrice<=50000:\n",
    "    print(\"5%\")\n",
    "else:\n",
    "    print(\"Invalid Price\")"
   ]
  },
  {
   "cell_type": "markdown",
   "metadata": {},
   "source": [
    "Solution 3"
   ]
  },
  {
   "cell_type": "code",
   "execution_count": 3,
   "metadata": {},
   "outputs": [
    {
     "name": "stdout",
     "output_type": "stream",
     "text": [
      "Enter any one of the City from Delhi, Agra, Jaipur to check the monuments of that city\n",
      "Jaipur\n",
      "Jal Mahal\n"
     ]
    }
   ],
   "source": [
    "print(\"Enter any one of the City from Delhi, Agra, Jaipur to check the monuments of that city\")\n",
    "cityName=input()\n",
    "if cityName == \"Delhi\":\n",
    "    print(\"Red FOrt\")\n",
    "elif cityName == \"Agra\":\n",
    "    print(\"Taj Mahal\")\n",
    "elif cityName == \"Jaipur\":\n",
    "    print(\"Jal Mahal\")\n",
    "else:\n",
    "    print(\"Invalid City\")"
   ]
  },
  {
   "cell_type": "markdown",
   "metadata": {},
   "source": [
    "Solution 4"
   ]
  },
  {
   "cell_type": "code",
   "execution_count": 7,
   "metadata": {},
   "outputs": [
    {
     "name": "stdout",
     "output_type": "stream",
     "text": [
      "Enter any number\n",
      "128\n",
      "3\n"
     ]
    }
   ],
   "source": [
    "print(\"Enter any number\")\n",
    "num=int(input())\n",
    "if num<=10:\n",
    "    print(0)\n",
    "else:\n",
    "    count=0\n",
    "    while num>10:\n",
    "        num=num/3\n",
    "        count+=1\n",
    "    print(count)"
   ]
  },
  {
   "cell_type": "markdown",
   "metadata": {},
   "source": [
    "Solution 5"
   ]
  },
  {
   "cell_type": "markdown",
   "metadata": {},
   "source": [
    "With the while loop we can execute a set of statements as long as a condition is true. "
   ]
  },
  {
   "cell_type": "code",
   "execution_count": 8,
   "metadata": {},
   "outputs": [
    {
     "name": "stdout",
     "output_type": "stream",
     "text": [
      "5\n",
      "4\n",
      "3\n",
      "2\n",
      "1\n"
     ]
    }
   ],
   "source": [
    "# For example\n",
    "\n",
    "n=5\n",
    "\n",
    "while n:\n",
    "    print(n)\n",
    "    n-=1"
   ]
  },
  {
   "cell_type": "markdown",
   "metadata": {},
   "source": [
    "There are also conditions which always gets setisfied this turn while loop to infinte loop to avoid this we use break statement and also to skip a particular iteration we can use continue"
   ]
  },
  {
   "cell_type": "markdown",
   "metadata": {},
   "source": [
    "Solution 6"
   ]
  },
  {
   "cell_type": "code",
   "execution_count": 9,
   "metadata": {},
   "outputs": [
    {
     "name": "stdout",
     "output_type": "stream",
     "text": [
      "**********\n",
      "**********\n",
      "**********\n",
      ".........\n",
      ".........\n",
      ".........\n",
      "---------\n",
      "---------\n",
      "---------\n"
     ]
    }
   ],
   "source": [
    "a=9\n",
    "\n",
    "while a:\n",
    "    while a>6:\n",
    "        print(\"**********\")\n",
    "        a-=1\n",
    "    while a>3 and a<=6:\n",
    "        print(\".........\")\n",
    "        a-=1\n",
    "    while a>0 and a<=3:\n",
    "        print(\"---------\")\n",
    "        a-=1"
   ]
  },
  {
   "cell_type": "markdown",
   "metadata": {},
   "source": [
    "Solution 7"
   ]
  },
  {
   "cell_type": "code",
   "execution_count": 11,
   "metadata": {},
   "outputs": [
    {
     "name": "stdout",
     "output_type": "stream",
     "text": [
      "10\n",
      "9\n",
      "8\n",
      "7\n",
      "6\n",
      "5\n",
      "4\n",
      "3\n",
      "2\n",
      "1\n"
     ]
    }
   ],
   "source": [
    "count=1\n",
    "while count<=10:\n",
    "    print(11-count)\n",
    "    count+=1"
   ]
  },
  {
   "cell_type": "markdown",
   "metadata": {},
   "source": [
    "Solution 8"
   ]
  },
  {
   "cell_type": "code",
   "execution_count": 13,
   "metadata": {},
   "outputs": [
    {
     "name": "stdout",
     "output_type": "stream",
     "text": [
      "10\n",
      "9\n",
      "8\n",
      "7\n",
      "6\n",
      "5\n",
      "4\n",
      "3\n",
      "2\n",
      "1\n"
     ]
    }
   ],
   "source": [
    "count=1\n",
    "while count<=10:\n",
    "    print(11-count)\n",
    "    count+=1"
   ]
  }
 ],
 "metadata": {
  "kernelspec": {
   "display_name": "Python 3",
   "language": "python",
   "name": "python3"
  },
  "language_info": {
   "codemirror_mode": {
    "name": "ipython",
    "version": 3
   },
   "file_extension": ".py",
   "mimetype": "text/x-python",
   "name": "python",
   "nbconvert_exporter": "python",
   "pygments_lexer": "ipython3",
   "version": "3.7.1"
  }
 },
 "nbformat": 4,
 "nbformat_minor": 2
}
